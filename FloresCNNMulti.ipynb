{
 "cells": [
  {
   "cell_type": "markdown",
   "id": "8053eeef",
   "metadata": {},
   "source": [
    "# 1. Introduccion\n",
    "### En este cuaderno vamos a practicar haciendo dos redes neuronales convolucionales a un dataset de imágenes:\n",
    "* https://www.kaggle.com/datasets/imsparsh/flowers-dataset/data (clasificación multiclase)\n",
    "### Este dataset como veremos a continuación, contiene ejemplos de imágenes divididos en 5 tipos de flores:\n",
    "* daisy (margarita)\n",
    "* dandelio (diente de leon)\n",
    "* rose (rosa)\n",
    "* sunflower (girasol)\n",
    "* tulip (tulipan)\n",
    "### y nuestro deber será intentar crear un modelo que nos ayude a diferenciar entre clases."
   ]
  },
  {
   "cell_type": "markdown",
   "id": "1025fc8f",
   "metadata": {},
   "source": [
    "# 2. Clasificación Multiclase (5 tipos de flores)"
   ]
  },
  {
   "cell_type": "markdown",
   "id": "b71b7004",
   "metadata": {},
   "source": []
  }
 ],
 "metadata": {
  "language_info": {
   "name": "python"
  }
 },
 "nbformat": 4,
 "nbformat_minor": 5
}
